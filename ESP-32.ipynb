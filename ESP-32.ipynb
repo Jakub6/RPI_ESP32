{
 "cells": [
  {
   "cell_type": "code",
   "execution_count": 4,
   "metadata": {},
   "outputs": [
    {
     "name": "stdout",
     "output_type": "stream",
     "text": [
      "\u001b[34mConnecting to --port=COM4 --baud=115200 \u001b[0m\n",
      "\u001b[34mReady.\n",
      "\u001b[0m"
     ]
    }
   ],
   "source": [
    "# ESP-32\n",
    "%serialconnect to --port=COM4 --baud=115200"
   ]
  },
  {
   "cell_type": "code",
   "execution_count": 11,
   "metadata": {},
   "outputs": [
    {
     "name": "stdout",
     "output_type": "stream",
     "text": [
      "hello esp32\r\n"
     ]
    }
   ],
   "source": [
    "print ('hello esp32')"
   ]
  },
  {
   "cell_type": "code",
   "execution_count": 6,
   "metadata": {},
   "outputs": [],
   "source": [
    "# import library to deal with pins:\n",
    "from machine import Pin"
   ]
  },
  {
   "cell_type": "code",
   "execution_count": 7,
   "metadata": {},
   "outputs": [],
   "source": [
    "# define pin 5 as output\n",
    "led = Pin(5, Pin.OUT)"
   ]
  },
  {
   "cell_type": "code",
   "execution_count": 8,
   "metadata": {},
   "outputs": [],
   "source": [
    "# define value of \"led\" as \"1\" or \"True\" to turn on the LED\n",
    "led.value(1)"
   ]
  },
  {
   "cell_type": "code",
   "execution_count": 9,
   "metadata": {},
   "outputs": [],
   "source": [
    "from time import sleep"
   ]
  },
  {
   "cell_type": "code",
   "execution_count": 10,
   "metadata": {},
   "outputs": [
    {
     "name": "stdout",
     "output_type": "stream",
     "text": [
      "."
     ]
    }
   ],
   "source": [
    "for i in range(5):\n",
    "    led.on()\n",
    "    sleep(0.5)\n",
    "    led.off()\n",
    "    sleep(0.5)"
   ]
  },
  {
   "cell_type": "code",
   "execution_count": 12,
   "metadata": {},
   "outputs": [],
   "source": [
    "# define pin 19 as an input and activate an internal Pull-up resistor:\n",
    "button = Pin(19, Pin.IN, Pin.PULL_UP)"
   ]
  },
  {
   "cell_type": "code",
   "execution_count": 13,
   "metadata": {},
   "outputs": [
    {
     "name": "stdout",
     "output_type": "stream",
     "text": [
      "1\r\n"
     ]
    }
   ],
   "source": [
    "# Read button state:\n",
    "print(button.value())"
   ]
  },
  {
   "cell_type": "code",
   "execution_count": 15,
   "metadata": {},
   "outputs": [
    {
     "name": "stdout",
     "output_type": "stream",
     "text": [
      "0\r\n"
     ]
    }
   ],
   "source": [
    "print (button.value())\n",
    "if button.value() == 0:\n",
    "    led.on()\n",
    "else:\n",
    "    led.off()"
   ]
  },
  {
   "cell_type": "code",
   "execution_count": 16,
   "metadata": {},
   "outputs": [],
   "source": [
    "from machine import Pin, PWM"
   ]
  },
  {
   "cell_type": "code",
   "execution_count": 18,
   "metadata": {},
   "outputs": [],
   "source": [
    "pwm0 = PWM(Pin(5))      # create PWM object from a pin\n",
    "pwm0.freq()             # get current frequency\n",
    "pwm0.freq(1000)         # set frequency\n",
    "pwm0.duty()             # get current duty cycle\n",
    "pwm0.duty(200)          # set duty cycle\n",
    "pwm0.deinit()           # turn off PWM on the pin"
   ]
  },
  {
   "cell_type": "code",
   "execution_count": 19,
   "metadata": {},
   "outputs": [],
   "source": [
    "pwm2 = PWM(Pin(5), freq=500, duty=512)"
   ]
  },
  {
   "cell_type": "code",
   "execution_count": 22,
   "metadata": {},
   "outputs": [
    {
     "name": "stdout",
     "output_type": "stream",
     "text": [
      ".."
     ]
    }
   ],
   "source": [
    "from machine import Pin, PWM\n",
    "pwm0 = PWM(Pin(5), freq=100, duty=0)\n",
    "for i in range (0,1023,10):\n",
    "    pwm0.duty(i)\n",
    "    sleep(0.1)\n",
    "pwm0.duty(0)\n",
    "pwm0.deinit() "
   ]
  },
  {
   "cell_type": "code",
   "execution_count": 23,
   "metadata": {},
   "outputs": [],
   "source": [
    "from machine import I2C"
   ]
  },
  {
   "cell_type": "code",
   "execution_count": 24,
   "metadata": {},
   "outputs": [],
   "source": [
    "i2c = I2C(scl=Pin(22), sda=Pin(21))"
   ]
  },
  {
   "cell_type": "code",
   "execution_count": 25,
   "metadata": {},
   "outputs": [],
   "source": [
    "def scanI2c():\n",
    "    print('Scan i2c bus...')\n",
    "    devices = i2c.scan()\n",
    "\n",
    "    if len(devices) == 0:\n",
    "        print(\"No i2c device !\")\n",
    "    else:\n",
    "        print('i2c devices found:',len(devices))\n",
    "\n",
    "    for device in devices:  \n",
    "        print(\"Decimal address: \",device,\" | Hexa address: \",hex(device))"
   ]
  },
  {
   "cell_type": "code",
   "execution_count": 26,
   "metadata": {},
   "outputs": [
    {
     "name": "stdout",
     "output_type": "stream",
     "text": [
      "Scan i2c bus...\n",
      "i2c devices found: 1\n",
      "Decimal address:  60  | Hexa address:  0x3c\n"
     ]
    }
   ],
   "source": [
    "scanI2c()"
   ]
  },
  {
   "cell_type": "code",
   "execution_count": 32,
   "metadata": {},
   "outputs": [],
   "source": [
    "import ssd1306\n",
    "i2c_oled = I2C(-1, scl=Pin(22), sda=Pin(21))\n",
    "oled_width = 128\n",
    "oled_height = 64\n",
    "oled = ssd1306.SSD1306_I2C(oled_width, oled_height, i2c_oled)"
   ]
  },
  {
   "cell_type": "code",
   "execution_count": 33,
   "metadata": {},
   "outputs": [],
   "source": [
    "oled.fill(0)\n",
    "oled.text(\"Hello esp32\", 0, 0)\n",
    "oled.show()"
   ]
  },
  {
   "cell_type": "code",
   "execution_count": null,
   "metadata": {},
   "outputs": [],
   "source": []
  },
  {
   "cell_type": "code",
   "execution_count": null,
   "metadata": {},
   "outputs": [],
   "source": []
  }
 ],
 "metadata": {
  "kernelspec": {
   "display_name": "MicroPython - USB",
   "language": "micropython",
   "name": "micropython"
  },
  "language_info": {
   "codemirror_mode": "python",
   "file_extension": ".py",
   "mimetype": "text/python",
   "name": "micropython"
  }
 },
 "nbformat": 4,
 "nbformat_minor": 2
}
